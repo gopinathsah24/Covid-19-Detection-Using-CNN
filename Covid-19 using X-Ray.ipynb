{
 "cells": [
  {
   "cell_type": "code",
   "execution_count": 1,
   "metadata": {},
   "outputs": [],
   "source": [
    "import pandas as pd\n",
    "import os\n",
    "import shutil"
   ]
  },
  {
   "cell_type": "code",
   "execution_count": 4,
   "metadata": {},
   "outputs": [],
   "source": [
    "FILE_PATH=\"covid-chestxray-dataset-master/metadata.csv\"\n",
    "IMAGE_PATH=\"covid-chestxray-dataset-master/images\""
   ]
  },
  {
   "cell_type": "code",
   "execution_count": 5,
   "metadata": {},
   "outputs": [],
   "source": [
    "df=pd.read_csv(FILE_PATH)"
   ]
  },
  {
   "cell_type": "code",
   "execution_count": 6,
   "metadata": {},
   "outputs": [
    {
     "data": {
      "text/plain": [
       "(950, 30)"
      ]
     },
     "execution_count": 6,
     "metadata": {},
     "output_type": "execute_result"
    }
   ],
   "source": [
    "df.shape"
   ]
  },
  {
   "cell_type": "code",
   "execution_count": 7,
   "metadata": {},
   "outputs": [],
   "source": [
    "TARGET_DIR=\"Dataset/Covid\"\n",
    "if not os.path.exists(TARGET_DIR):\n",
    "    os.mkdir(TARGET_DIR)"
   ]
  },
  {
   "cell_type": "code",
   "execution_count": 8,
   "metadata": {},
   "outputs": [],
   "source": [
    "for (i,row) in df.iterrows():\n",
    "    if row['finding']=='Pneumonia/Viral/COVID-19' and row['view']=='PA':\n",
    "        filename=row['filename']\n",
    "        image_path=os.path.join(IMAGE_PATH,filename)\n",
    "        target_image_path=os.path.join(TARGET_DIR,filename)\n",
    "        shutil.copy2(image_path,target_image_path) "
   ]
  },
  {
   "cell_type": "code",
   "execution_count": 11,
   "metadata": {},
   "outputs": [],
   "source": [
    "KAGGLE_IMAGE_PATH=\"chest_xray/train/NORMAL\"\n",
    "TARGET_PATH=\"ProjectDataset/Normalimages\""
   ]
  },
  {
   "cell_type": "code",
   "execution_count": 12,
   "metadata": {},
   "outputs": [],
   "source": [
    "import random\n",
    "image_names=os.listdir(KAGGLE_IMAGE_PATH)\n",
    "random.shuffle(image_names)\n",
    "for i in range (200):\n",
    "    image_name=image_names[i]\n",
    "    image_path=os.path.join(KAGGLE_IMAGE_PATH,image_name)\n",
    "    target_image_path=os.path.join(TARGET_PATH,image_name)\n",
    "    shutil.copy2(image_path,target_image_path)"
   ]
  },
  {
   "cell_type": "code",
   "execution_count": 13,
   "metadata": {},
   "outputs": [],
   "source": [
    "import numpy as np\n",
    "import matplotlib.pyplot as plt\n",
    "import keras\n",
    "from keras.layers import *\n",
    "from keras.models import *\n",
    "from keras.preprocessing import image\n",
    "from keras.callbacks import ModelCheckpoint"
   ]
  },
  {
   "cell_type": "code",
   "execution_count": 14,
   "metadata": {},
   "outputs": [],
   "source": [
    "model = Sequential()\n",
    "model.add(Conv2D(32,kernel_size=(3,3),activation='relu',input_shape=(224,224,3)))\n",
    "model.add(Conv2D(64,(3,3),activation='relu'))\n",
    "model.add(MaxPooling2D(pool_size=(2,2)))\n",
    "model.add(Dropout(0.25)) #To avoid Overfitting\n",
    "\n",
    "model.add(Conv2D(128,(3,3),activation='relu'))\n",
    "model.add(MaxPooling2D(pool_size=(2,2)))\n",
    "model.add(Dropout(0.25))\n",
    "\n",
    "model.add(Conv2D(256,(3,3),activation='relu'))\n",
    "model.add(MaxPooling2D(pool_size=(2,2)))\n",
    "model.add(Dropout(0.50))\n",
    "\n",
    "model.add(Flatten())\n",
    "model.add(Dense(128,activation='relu'))\n",
    "model.add(Dropout(0.25))\n",
    "model.add(Dense(64,activation='relu'))\n",
    "model.add(Dropout(0.25))\n",
    "model.add(Dense(1,activation='sigmoid'))\n",
    "\n",
    "model.compile(loss=keras.losses.binary_crossentropy,optimizer='adam',metrics=['accuracy'])"
   ]
  },
  {
   "cell_type": "code",
   "execution_count": 15,
   "metadata": {},
   "outputs": [
    {
     "name": "stdout",
     "output_type": "stream",
     "text": [
      "Model: \"sequential\"\n",
      "_________________________________________________________________\n",
      "Layer (type)                 Output Shape              Param #   \n",
      "=================================================================\n",
      "conv2d (Conv2D)              (None, 222, 222, 32)      896       \n",
      "_________________________________________________________________\n",
      "conv2d_1 (Conv2D)            (None, 220, 220, 64)      18496     \n",
      "_________________________________________________________________\n",
      "max_pooling2d (MaxPooling2D) (None, 110, 110, 64)      0         \n",
      "_________________________________________________________________\n",
      "dropout (Dropout)            (None, 110, 110, 64)      0         \n",
      "_________________________________________________________________\n",
      "conv2d_2 (Conv2D)            (None, 108, 108, 128)     73856     \n",
      "_________________________________________________________________\n",
      "max_pooling2d_1 (MaxPooling2 (None, 54, 54, 128)       0         \n",
      "_________________________________________________________________\n",
      "dropout_1 (Dropout)          (None, 54, 54, 128)       0         \n",
      "_________________________________________________________________\n",
      "conv2d_3 (Conv2D)            (None, 52, 52, 256)       295168    \n",
      "_________________________________________________________________\n",
      "max_pooling2d_2 (MaxPooling2 (None, 26, 26, 256)       0         \n",
      "_________________________________________________________________\n",
      "dropout_2 (Dropout)          (None, 26, 26, 256)       0         \n",
      "_________________________________________________________________\n",
      "flatten (Flatten)            (None, 173056)            0         \n",
      "_________________________________________________________________\n",
      "dense (Dense)                (None, 128)               22151296  \n",
      "_________________________________________________________________\n",
      "dropout_3 (Dropout)          (None, 128)               0         \n",
      "_________________________________________________________________\n",
      "dense_1 (Dense)              (None, 64)                8256      \n",
      "_________________________________________________________________\n",
      "dropout_4 (Dropout)          (None, 64)                0         \n",
      "_________________________________________________________________\n",
      "dense_2 (Dense)              (None, 1)                 65        \n",
      "=================================================================\n",
      "Total params: 22,548,033\n",
      "Trainable params: 22,548,033\n",
      "Non-trainable params: 0\n",
      "_________________________________________________________________\n"
     ]
    }
   ],
   "source": [
    "model.summary()"
   ]
  },
  {
   "cell_type": "code",
   "execution_count": 24,
   "metadata": {},
   "outputs": [],
   "source": [
    "train_datagen=image.ImageDataGenerator(\n",
    "                rescale=1./255,\n",
    "                shear_range=0.2,\n",
    "                zoom_range=0.2,\n",
    "                horizontal_flip=True)\n",
    "val_datagen=image.ImageDataGenerator(rescale=1./255)\n",
    "test_datagen=image.ImageDataGenerator(rescale=1./255)"
   ]
  },
  {
   "cell_type": "code",
   "execution_count": 25,
   "metadata": {},
   "outputs": [
    {
     "name": "stdout",
     "output_type": "stream",
     "text": [
      "Found 224 images belonging to 2 classes.\n"
     ]
    }
   ],
   "source": [
    "train_generator=train_datagen.flow_from_directory(\n",
    "                'Dataset/Train',\n",
    "                target_size=(224,224),\n",
    "                batch_size=30,\n",
    "                class_mode='binary')"
   ]
  },
  {
   "cell_type": "code",
   "execution_count": 26,
   "metadata": {},
   "outputs": [
    {
     "data": {
      "text/plain": [
       "{'Covid': 0, 'Normal': 1}"
      ]
     },
     "execution_count": 26,
     "metadata": {},
     "output_type": "execute_result"
    }
   ],
   "source": [
    "train_generator.class_indices"
   ]
  },
  {
   "cell_type": "code",
   "execution_count": 27,
   "metadata": {},
   "outputs": [
    {
     "name": "stdout",
     "output_type": "stream",
     "text": [
      "Found 60 images belonging to 2 classes.\n"
     ]
    }
   ],
   "source": [
    "test_generator=test_datagen.flow_from_directory(\n",
    "                'Dataset/Test',\n",
    "                target_size=(224,224),\n",
    "                batch_size=30,\n",
    "                class_mode='binary')"
   ]
  },
  {
   "cell_type": "code",
   "execution_count": 28,
   "metadata": {},
   "outputs": [
    {
     "name": "stdout",
     "output_type": "stream",
     "text": [
      "Found 60 images belonging to 2 classes.\n"
     ]
    }
   ],
   "source": [
    "val_generator=val_datagen.flow_from_directory(\n",
    "                'Dataset/Test',\n",
    "                target_size=(224,224),\n",
    "                batch_size=30,\n",
    "                class_mode='binary')"
   ]
  },
  {
   "cell_type": "code",
   "execution_count": 29,
   "metadata": {},
   "outputs": [],
   "source": [
    "checkpoint=ModelCheckpoint(\"Covid_best_model.hdf5\",monitor='accuracy',verbose=1,save_best_only=True,mode='max')"
   ]
  },
  {
   "cell_type": "code",
   "execution_count": 30,
   "metadata": {},
   "outputs": [
    {
     "name": "stdout",
     "output_type": "stream",
     "text": [
      "Epoch 1/20\n",
      "8/8 [==============================] - 107s 14s/step - loss: 0.6911 - accuracy: 0.5179 - val_loss: 0.6807 - val_accuracy: 0.6667\n",
      "\n",
      "Epoch 00001: accuracy improved from -inf to 0.51786, saving model to Covid_best_model.hdf5\n",
      "Epoch 2/20\n",
      "8/8 [==============================] - 109s 13s/step - loss: 0.6524 - accuracy: 0.6295 - val_loss: 0.5190 - val_accuracy: 0.9000\n",
      "\n",
      "Epoch 00002: accuracy improved from 0.51786 to 0.62946, saving model to Covid_best_model.hdf5\n",
      "Epoch 3/20\n",
      "8/8 [==============================] - 101s 12s/step - loss: 0.4852 - accuracy: 0.7812 - val_loss: 0.3259 - val_accuracy: 0.9167\n",
      "\n",
      "Epoch 00003: accuracy improved from 0.62946 to 0.78125, saving model to Covid_best_model.hdf5\n",
      "Epoch 4/20\n",
      "8/8 [==============================] - 98s 12s/step - loss: 0.3265 - accuracy: 0.8527 - val_loss: 0.1567 - val_accuracy: 0.9500\n",
      "\n",
      "Epoch 00004: accuracy improved from 0.78125 to 0.85268, saving model to Covid_best_model.hdf5\n",
      "Epoch 5/20\n",
      "8/8 [==============================] - 119s 15s/step - loss: 0.5093 - accuracy: 0.8616 - val_loss: 0.1292 - val_accuracy: 0.9500\n",
      "\n",
      "Epoch 00005: accuracy improved from 0.85268 to 0.86161, saving model to Covid_best_model.hdf5\n",
      "Epoch 6/20\n",
      "8/8 [==============================] - 103s 12s/step - loss: 0.3716 - accuracy: 0.8527 - val_loss: 0.1765 - val_accuracy: 0.9667\n",
      "\n",
      "Epoch 00006: accuracy did not improve from 0.86161\n",
      "Epoch 7/20\n",
      "8/8 [==============================] - 70s 9s/step - loss: 0.3449 - accuracy: 0.8438 - val_loss: 0.2042 - val_accuracy: 0.9500\n",
      "\n",
      "Epoch 00007: accuracy did not improve from 0.86161\n",
      "Epoch 8/20\n",
      "8/8 [==============================] - 80s 10s/step - loss: 0.3159 - accuracy: 0.8750 - val_loss: 0.2633 - val_accuracy: 0.9500\n",
      "\n",
      "Epoch 00008: accuracy improved from 0.86161 to 0.87500, saving model to Covid_best_model.hdf5\n",
      "Epoch 9/20\n",
      "8/8 [==============================] - 90s 12s/step - loss: 0.2819 - accuracy: 0.9107 - val_loss: 0.1387 - val_accuracy: 0.9500\n",
      "\n",
      "Epoch 00009: accuracy improved from 0.87500 to 0.91071, saving model to Covid_best_model.hdf5\n",
      "Epoch 10/20\n",
      "8/8 [==============================] - 86s 11s/step - loss: 0.2749 - accuracy: 0.8750 - val_loss: 0.2514 - val_accuracy: 0.9667\n",
      "\n",
      "Epoch 00010: accuracy did not improve from 0.91071\n",
      "Epoch 11/20\n",
      "8/8 [==============================] - 105s 13s/step - loss: 0.2145 - accuracy: 0.9107 - val_loss: 0.1706 - val_accuracy: 0.9833\n",
      "\n",
      "Epoch 00011: accuracy did not improve from 0.91071\n",
      "Epoch 12/20\n",
      "8/8 [==============================] - 80s 10s/step - loss: 0.1704 - accuracy: 0.9509 - val_loss: 0.1694 - val_accuracy: 0.9667\n",
      "\n",
      "Epoch 00012: accuracy improved from 0.91071 to 0.95089, saving model to Covid_best_model.hdf5\n",
      "Epoch 13/20\n",
      "8/8 [==============================] - 78s 10s/step - loss: 0.1912 - accuracy: 0.9286 - val_loss: 0.3082 - val_accuracy: 0.9167\n",
      "\n",
      "Epoch 00013: accuracy did not improve from 0.95089\n",
      "Epoch 14/20\n",
      "8/8 [==============================] - 76s 9s/step - loss: 0.1904 - accuracy: 0.9152 - val_loss: 0.1182 - val_accuracy: 0.9667\n",
      "\n",
      "Epoch 00014: accuracy did not improve from 0.95089\n",
      "Epoch 15/20\n",
      "8/8 [==============================] - 75s 9s/step - loss: 0.1705 - accuracy: 0.9420 - val_loss: 0.1510 - val_accuracy: 0.9500\n",
      "\n",
      "Epoch 00015: accuracy did not improve from 0.95089\n",
      "Epoch 16/20\n",
      "8/8 [==============================] - 71s 9s/step - loss: 0.0973 - accuracy: 0.9643 - val_loss: 0.0763 - val_accuracy: 0.9667\n",
      "\n",
      "Epoch 00016: accuracy improved from 0.95089 to 0.96429, saving model to Covid_best_model.hdf5\n",
      "Epoch 17/20\n",
      "8/8 [==============================] - 75s 9s/step - loss: 0.1301 - accuracy: 0.9598 - val_loss: 0.0607 - val_accuracy: 0.9667\n",
      "\n",
      "Epoch 00017: accuracy did not improve from 0.96429\n",
      "Epoch 18/20\n",
      "8/8 [==============================] - 68s 8s/step - loss: 0.0827 - accuracy: 0.9688 - val_loss: 0.0832 - val_accuracy: 0.9500\n",
      "\n",
      "Epoch 00018: accuracy improved from 0.96429 to 0.96875, saving model to Covid_best_model.hdf5\n",
      "Epoch 19/20\n",
      "8/8 [==============================] - 65s 8s/step - loss: 0.0584 - accuracy: 0.9866 - val_loss: 0.0653 - val_accuracy: 0.9667\n",
      "\n",
      "Epoch 00019: accuracy improved from 0.96875 to 0.98661, saving model to Covid_best_model.hdf5\n",
      "Epoch 20/20\n",
      "8/8 [==============================] - 67s 9s/step - loss: 0.0871 - accuracy: 0.9732 - val_loss: 0.1100 - val_accuracy: 0.9500\n",
      "\n",
      "Epoch 00020: accuracy did not improve from 0.98661\n"
     ]
    }
   ],
   "source": [
    "final=model.fit(\n",
    "            train_generator,\n",
    "            steps_per_epoch=8,\n",
    "            epochs=20,\n",
    "            validation_data=val_generator,\n",
    "            validation_steps=2,\n",
    "            callbacks=[checkpoint])"
   ]
  },
  {
   "cell_type": "code",
   "execution_count": 31,
   "metadata": {},
   "outputs": [],
   "source": [
    "import os"
   ]
  },
  {
   "cell_type": "code",
   "execution_count": 32,
   "metadata": {},
   "outputs": [],
   "source": [
    "y_actual=[]\n",
    "y_test=[]"
   ]
  },
  {
   "cell_type": "code",
   "execution_count": 33,
   "metadata": {},
   "outputs": [
    {
     "name": "stderr",
     "output_type": "stream",
     "text": [
      "C:\\Users\\RADHIKA\\anaconda3\\lib\\site-packages\\keras\\engine\\sequential.py:450: UserWarning: `model.predict_classes()` is deprecated and will be removed after 2021-01-01. Please use instead:* `np.argmax(model.predict(x), axis=-1)`,   if your model does multi-class classification   (e.g. if it uses a `softmax` last-layer activation).* `(model.predict(x) > 0.5).astype(\"int32\")`,   if your model does binary classification   (e.g. if it uses a `sigmoid` last-layer activation).\n",
      "  warnings.warn('`model.predict_classes()` is deprecated and '\n"
     ]
    }
   ],
   "source": [
    "for i in os.listdir(\"./Dataset/Test/Covid/\"):\n",
    "    img=image.load_img(\"./Dataset/Test/Covid/\"+i,color_mode=\"rgb\", target_size=(224,224,3))\n",
    "    img=image.img_to_array(img)\n",
    "    img=np.expand_dims(img,axis=0)\n",
    "    p=model.predict_classes(img)\n",
    "    y_test.append(p[0,0])\n",
    "    y_actual.append(0)"
   ]
  },
  {
   "cell_type": "code",
   "execution_count": 34,
   "metadata": {},
   "outputs": [],
   "source": [
    "for i in os.listdir(\"./Dataset/Test/Normal/\"):\n",
    "    img=image.load_img(\"./Dataset/Test/Normal/\"+i,color_mode=\"rgb\", target_size=(224,224,3))\n",
    "    img=image.img_to_array(img)\n",
    "    img=np.expand_dims(img,axis=0)\n",
    "    p=model.predict_classes(img)\n",
    "    y_test.append(p[0,0])\n",
    "    y_actual.append(1)"
   ]
  },
  {
   "cell_type": "code",
   "execution_count": 35,
   "metadata": {},
   "outputs": [],
   "source": [
    "y_test=np.array(y_test)\n",
    "y_actual=np.array(y_actual)"
   ]
  },
  {
   "cell_type": "code",
   "execution_count": 36,
   "metadata": {},
   "outputs": [],
   "source": [
    "from sklearn.metrics import confusion_matrix"
   ]
  },
  {
   "cell_type": "code",
   "execution_count": 37,
   "metadata": {},
   "outputs": [],
   "source": [
    "cm=confusion_matrix(y_actual,y_test)"
   ]
  },
  {
   "cell_type": "code",
   "execution_count": 38,
   "metadata": {},
   "outputs": [],
   "source": [
    "import seaborn as sns"
   ]
  },
  {
   "cell_type": "code",
   "execution_count": 39,
   "metadata": {},
   "outputs": [
    {
     "data": {
      "text/plain": [
       "<AxesSubplot:>"
      ]
     },
     "execution_count": 39,
     "metadata": {},
     "output_type": "execute_result"
    },
    {
     "data": {
      "image/png": "[encoded data removed]",
      "text/plain": [
       "<Figure size 432x288 with 2 Axes>"
      ]
     },
     "metadata": {
      "needs_background": "light"
     },
     "output_type": "display_data"
    }
   ],
   "source": [
    "sns.heatmap(cm,cmap=\"plasma\",annot=True)"
   ]
  },
  {
   "cell_type": "code",
   "execution_count": 40,
   "metadata": {},
   "outputs": [
    {
     "data": {
      "image/png": "[encoded data removed]",
      "text/plain": [
       "<Figure size 432x288 with 1 Axes>"
      ]
     },
     "metadata": {
      "needs_background": "light"
     },
     "output_type": "display_data"
    },
    {
     "data": {
      "text/plain": [
       "<Figure size 432x288 with 0 Axes>"
      ]
     },
     "metadata": {},
     "output_type": "display_data"
    }
   ],
   "source": [
    "plt.plot(final.history['loss'], label='train loss')\n",
    "plt.plot(final.history['val_loss'], label='val loss')\n",
    "plt.xlabel(\"epochs\")\n",
    "plt.ylabel(\"Loss\")\n",
    "plt.legend()\n",
    "plt.show()\n",
    "plt.savefig('LossVal_loss')"
   ]
  },
  {
   "cell_type": "code",
   "execution_count": 41,
   "metadata": {},
   "outputs": [
    {
     "data": {
      "image/png": "[encoded data removed]",
      "text/plain": [
       "<Figure size 432x288 with 1 Axes>"
      ]
     },
     "metadata": {
      "needs_background": "light"
     },
     "output_type": "display_data"
    },
    {
     "data": {
      "text/plain": [
       "<Figure size 432x288 with 0 Axes>"
      ]
     },
     "metadata": {},
     "output_type": "display_data"
    }
   ],
   "source": [
    "plt.plot(final.history['accuracy'], label='train acc')\n",
    "plt.plot(final.history['val_accuracy'], label='val acc')\n",
    "plt.xlabel(\"epochs\")\n",
    "plt.ylabel(\"Accuracy\")\n",
    "plt.legend()\n",
    "plt.show()\n",
    "plt.savefig('AccVal_acc')"
   ]
  },
  {
   "cell_type": "code",
   "execution_count": null,
   "metadata": {},
   "outputs": [],
   "source": []
  },
  {
   "cell_type": "code",
   "execution_count": null,
   "metadata": {},
   "outputs": [],
   "source": []
  }
 ],
 "metadata": {
  "kernelspec": {
   "display_name": "Python 3",
   "language": "python",
   "name": "python3"
  },
  "language_info": {
   "codemirror_mode": {
    "name": "ipython",
    "version": 3
   },
   "file_extension": ".py",
   "mimetype": "text/x-python",
   "name": "python",
   "nbconvert_exporter": "python",
   "pygments_lexer": "ipython3",
   "version": "3.8.8"
  }
 },
 "nbformat": 4,
 "nbformat_minor": 4
}
